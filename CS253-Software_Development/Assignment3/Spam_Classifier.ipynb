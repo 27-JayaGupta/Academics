{
  "cells": [
    {
      "cell_type": "markdown",
      "metadata": {
        "id": "U8-IBSvAPo7G"
      },
      "source": [
        "# Assignment: Classification\n",
        "\n",
        "Classification refers to categorizing the given data into classes. For example,\n",
        "- Given an image of hand-written character, identifying the character (multi-class classification)\n",
        "- Given an image, annotating it with all the objects present in the image (multi-label classification)\n",
        "- Classifying an email as spam or non-spam (binary classification)\n",
        "- Classifying a tumor as benign or malignant and so on\n",
        "\n",
        "In this assignment, we will be building a classifier to classify emails as spam or non-spam. We will be using the Kaggle dataset [Spam or Not Spam Dataset](https://www.kaggle.com/datasets/ozlerhakan/spam-or-not-spam-dataset?resource=download) for this task. \n",
        "\n",
        "**Note**: You cannot load any libraries other than the mentioned ones.\n",
        "\n"
      ]
    },
    {
      "cell_type": "markdown",
      "metadata": {
        "id": "ycGw1NqFPvWH"
      },
      "source": [
        "### Data pre-processing\n",
        "The first step in every machine learning algorithm is to process the raw data in some meaningful representations. We will be using the [Bag-of-Words](https://towardsdatascience.com/a-simple-explanation-of-the-bag-of-words-model-b88fc4f4971) representation to process the text. It comprises of following steps:\n",
        "\n",
        "- Process emails line-by-line to extract all the words.\n",
        "- Replace extracted words by their stem (root) word. This is known as stemming and lematization.\n",
        "- Remove stop words like and, or, is, am, and so on.\n",
        "- Assign a unique index to each word. This forms the vocabulary.\n",
        "- Represent each email as a binary vector of length equal to the size of the vocabulary such that the $i^{th}$ element of the vector is 1 iff the $i^th$ word is present in the email.\n",
        "\n",
        "Here we provide you with the function signature along with the expected functionality. You are expected to complete them accordingly."
      ]
    },
    {
      "cell_type": "code",
      "execution_count": 118,
      "metadata": {
        "colab": {
          "base_uri": "https://localhost:8080/"
        },
        "id": "9onDhNuGXMre",
        "outputId": "c6877b25-4bf8-4f76-b38b-7cf193b1be56"
      },
      "outputs": [
        {
          "output_type": "stream",
          "name": "stdout",
          "text": [
            "[nltk_data] Downloading package stopwords to /root/nltk_data...\n",
            "[nltk_data]   Package stopwords is already up-to-date!\n"
          ]
        },
        {
          "output_type": "execute_result",
          "data": {
            "text/plain": [
              "True"
            ]
          },
          "metadata": {},
          "execution_count": 118
        }
      ],
      "source": [
        "import nltk\n",
        "nltk.download('stopwords')"
      ]
    },
    {
      "cell_type": "code",
      "execution_count": 119,
      "metadata": {
        "id": "NnLH-qLaPaoW"
      },
      "outputs": [],
      "source": [
        "import numpy as np\n",
        "from nltk.stem import PorterStemmer\n",
        "from nltk.corpus import stopwords\n",
        "import random\n",
        "\n",
        "vocab = {}\n",
        "num_words = 0\n",
        "# takes an email as an argument\n",
        "# read email line-by-line and extract all the words\n",
        "# return list of extracted words\n",
        "def read_email(email):\n",
        "  email.strip()\n",
        "  words = email.split()\n",
        "  return words\n",
        "  \n",
        "# takes a list of words as an argument\n",
        "# replace each word by their stem word\n",
        "# return list of stem words\n",
        "def stemming(words):\n",
        "  stemmer = PorterStemmer()\n",
        "  stem_words = [stemmer.stem(word) for word in words]\n",
        "  return stem_words\n",
        "\n",
        "# takes a list of stem-words as an argument\n",
        "# remove stop words\n",
        "# return list of stem words after removing stop words\n",
        "def remove_stop_words(stem_words):\n",
        "  stop_words = set(stopwords.words('english'))\n",
        "  stem_no_stop_words = [w for w in stem_words if not w.lower() in stop_words]\n",
        "  return stem_no_stop_words\n",
        "\n",
        "# takes a list of stem-words as an argument\n",
        "# add new words to the vocabulary and assign a unique index to them\n",
        "# returns new vocabulary\n",
        "def build_vocabulary(words):\n",
        "  global num_words\n",
        "  for word in words:\n",
        "    if word not in vocab:\n",
        "      vocab[word] = num_words\n",
        "      num_words += 1\n",
        "  \n",
        "\n",
        "# takes a list of stem-words and vocabulary as an argument\n",
        "# returns bow representation\n",
        "def get_bow(words):\n",
        "  email_bow = [0] * len(vocab)\n",
        " \n",
        "  for word in words:\n",
        "    if word in vocab:\n",
        "      email_bow[vocab[word]] = 1\n",
        "  return email_bow\n",
        "\n",
        "# read the entire dataset\n",
        "# convert emails to bow and maintain their labels\n",
        "# call function text_to_bow()\n",
        "\n",
        "def read_data():\n",
        "  raw_data = []\n",
        "  with open(\"spam_or_not_spam.csv\",\"r\") as stream:\n",
        "    for line in stream:\n",
        "      line_data = line.split(\",\")\n",
        "      raw_data.append([line_data[0],line_data[1].strip()])\n",
        "  \n",
        "  filtered_data = []\n",
        "  for email,label in raw_data:\n",
        "    if(email == \"email\"):\n",
        "      continue\n",
        "\n",
        "    words_email = remove_stop_words(stemming(read_email(email)))\n",
        "    build_vocabulary(words_email)\n",
        "    filtered_data.append([words_email,label])\n",
        "  \n",
        "  random.shuffle(filtered_data)\n",
        "\n",
        "  emails = []\n",
        "  labels = []\n",
        "  for email,label in filtered_data:\n",
        "    bow_rep = get_bow(email)\n",
        "    emails.append(bow_rep)\n",
        "    labels.append(label)\n",
        "\n",
        "  y = np.array(labels)\n",
        "  print(y.shape)\n",
        "\n",
        "  x = np.array(emails)\n",
        "  print(x.shape)\n",
        "\n",
        "  return x,y"
      ]
    },
    {
      "cell_type": "code",
      "execution_count": 120,
      "metadata": {
        "colab": {
          "base_uri": "https://localhost:8080/"
        },
        "id": "_fZqGdehsYo5",
        "outputId": "1bf5613d-d4b3-4ff5-b448-1e4547f95f4a"
      },
      "outputs": [
        {
          "output_type": "stream",
          "name": "stdout",
          "text": [
            "(3000,)\n",
            "(3000, 25748)\n"
          ]
        }
      ],
      "source": [
        "emails_bow,labels = read_data()"
      ]
    },
    {
      "cell_type": "markdown",
      "metadata": {
        "id": "KKaKGv3cP03d"
      },
      "source": [
        "### Data Visualization\n",
        "Let's understand the data distribution\n",
        "- Visualize the frequency of word-occurence in all the emails(spam + non-spam)\n",
        "- Visualize the freuency of word-occurence for spam and non-spam emails separately"
      ]
    },
    {
      "cell_type": "code",
      "execution_count": 121,
      "metadata": {
        "colab": {
          "base_uri": "https://localhost:8080/",
          "height": 1000
        },
        "id": "GZUhUDx-Pg-i",
        "outputId": "d49f39f0-c64d-4240-b0a0-ac0ac5cc821c"
      },
      "outputs": [
        {
          "output_type": "display_data",
          "data": {
            "text/plain": [
              "<Figure size 720x360 with 1 Axes>"
            ],
            "image/png": "[encoded data removed]"
          },
          "metadata": {
            "needs_background": "light"
          }
        },
        {
          "output_type": "display_data",
          "data": {
            "text/plain": [
              "<Figure size 720x360 with 1 Axes>"
            ],
            "image/png": "[encoded data removed]"
          },
          "metadata": {
            "needs_background": "light"
          }
        },
        {
          "output_type": "display_data",
          "data": {
            "text/plain": [
              "<Figure size 720x360 with 1 Axes>"
            ],
            "image/png": "[encoded data removed]"
          },
          "metadata": {
            "needs_background": "light"
          }
        }
      ],
      "source": [
        "import matplotlib.pyplot as plt\n",
        "\n",
        "# visuallze data distribution\n",
        "def data_vis(data):\n",
        "  sum = np.sum(data,axis = 0)\n",
        "  x = np.arange(0,len(vocab),1,dtype=int)\n",
        "  fig = plt.figure(figsize = (10, 5))\n",
        "  plt.bar(x, sum, color ='green')\n",
        "  ax = plt.gca()\n",
        "  ax.set_xlim([0, 26000])\n",
        "  ax.set_ylim([0, 400])\n",
        "  plt.xlabel(\"Words in vocabulary\")\n",
        "  plt.ylabel(\"Freq of words in emails\")\n",
        "  plt.title(\"Freq of words in all emails\")\n",
        "  plt.show()\n",
        "  return\n",
        "\n",
        "data_vis(emails_bow)\n",
        "\n",
        "def visualise_spam_non_spam():\n",
        "  i = 0\n",
        "  spam = []\n",
        "  non_spam = []\n",
        "  for s in emails_bow:\n",
        "    if (int(labels[i])== 0):\n",
        "      non_spam.append(s)\n",
        "    else:\n",
        "      spam.append(s)\n",
        "    i += 1\n",
        "\n",
        "  data_vis(spam)\n",
        "  data_vis(non_spam)\n",
        "\n",
        "visualise_spam_non_spam()"
      ]
    },
    {
      "cell_type": "markdown",
      "metadata": {
        "id": "Mj8eZVPkQAGz"
      },
      "source": [
        "### Learn a Classifier\n",
        "Split the dataset randomly in the ratio 80:20 as the training and test dataset. Use only training dataset to learn the classifier. No test data should be used during training. Test data will only be used during evaluation.\n",
        "\n",
        "Now let us try to use ML algorithms to classify emails as spam or non-spam. You are supposed to implement [SVM](https://scikit-learn.org/stable/modules/svm.html) and [K-Nearest Neighbour](https://scikit-learn.org/stable/modules/generated/sklearn.neighbors.KNeighborsClassifier.html) algorithm available in scikit-learn using the same training dataset for both."
      ]
    },
    {
      "cell_type": "code",
      "execution_count": 122,
      "metadata": {
        "id": "7byA6Sy4PjFQ"
      },
      "outputs": [],
      "source": [
        "from sklearn.neighbors import KNeighborsClassifier\n",
        "from sklearn import svm\n",
        "\n",
        "# split dataset\n",
        "def split(data):\n",
        "  length = len(data[1])\n",
        "  len_train = int(length * 0.8)\n",
        "  train_data = (data[0][0:len_train],data[1][0:len_train])\n",
        "  test_data = (data[0][len_train:length],data[1][len_train:length])\n",
        "\n",
        "  return train_data, test_data\n",
        "\n",
        "# learn a SVM model\n",
        "# use the model to make prediction\n",
        "# return the model predictions on train and test dataset\n",
        "def svm_classifier(train_data,test_data):\n",
        "  classifier = svm.SVC()\n",
        "  classifier.fit(train_data[0],train_data[1])\n",
        "  return classifier.predict(train_data[0]),classifier.predict(test_data[0])\n",
        "\n",
        "# implement k-NN algorithm\n",
        "# use the model to make prediction\n",
        "# return the model predictions on train and test dataset\n",
        "def knn_classifier(train_data,test_data):\n",
        "  neigh = KNeighborsClassifier(n_neighbors = 10)\n",
        "  neigh.fit(train_data[0],train_data[1])\n",
        "  return neigh.predict(train_data[0]),neigh.predict(test_data[0])\n",
        "\n",
        "\n",
        "data = (emails_bow,labels)\n",
        "train_data, test_data = split(data)\n",
        "svm_train_predictions, svm_test_predictions = svm_classifier(train_data, test_data)\n",
        "knn_train_predictions, knn_test_predictions = knn_classifier(train_data, test_data)"
      ]
    },
    {
      "cell_type": "markdown",
      "metadata": {
        "id": "Ko1ZqDH3QGAb"
      },
      "source": [
        "### Model Evaluation\n",
        "Compare the SVM and k-NN model using metrics\n",
        "- Accuracy\n",
        "- [AUC score](https://scikit-learn.org/stable/modules/generated/sklearn.metrics.auc.html)\n"
      ]
    },
    {
      "cell_type": "code",
      "execution_count": 123,
      "metadata": {
        "id": "gN4wZ4Q2Pl1n"
      },
      "outputs": [],
      "source": [
        "from sklearn import metrics\n",
        "\n",
        "# compute accuracy \n",
        "def compute_accuracy(true_labels, predicted_labels):\n",
        "  t_labels = [ord(x) - ord('0') for x in true_labels]\n",
        "  p_labels = [ord(x)-ord('0') for x in predicted_labels]\n",
        "  acc = metrics.accuracy_score(t_labels,p_labels)\n",
        "  return acc\n",
        "\n",
        "# compute AUC score \n",
        "def compute_auc(true_labels, predicted_labels):\n",
        "  t_labels = [ord(x)-ord('0') for x in true_labels]\n",
        "  p_labels = [ord(x)-ord('0') for x in predicted_labels]\n",
        "  auc = metrics.roc_auc_score(t_labels,p_labels)\n",
        "  return auc\n"
      ]
    },
    {
      "cell_type": "code",
      "source": [
        "# write code to print train and test accuracy and AUC score of SVM and k-NN classifier\n",
        "knn_accuracy_train = compute_accuracy(train_data[1],knn_train_predictions)\n",
        "knn_accuracy_test = compute_accuracy(test_data[1],knn_test_predictions)\n",
        "knn_auc_train = compute_auc(train_data[1],knn_train_predictions)\n",
        "knn_auc_test = compute_auc(test_data[1],knn_test_predictions)\n",
        "print(\"KNN_Train Accuracy:\",knn_accuracy_train)\n",
        "print(\"KNN_Test Accuracy:\",knn_accuracy_test)\n",
        "print(\"KNN_Train AUC Score\",knn_auc_train)\n",
        "print(\"KNN_Test AUC Score\",knn_auc_test)"
      ],
      "metadata": {
        "colab": {
          "base_uri": "https://localhost:8080/"
        },
        "id": "eZiqNwmUbxgz",
        "outputId": "da2d79b8-9ced-42d2-c11a-2e50f99c6578"
      },
      "execution_count": 124,
      "outputs": [
        {
          "output_type": "stream",
          "name": "stdout",
          "text": [
            "KNN_Train Accuracy: 0.9508333333333333\n",
            "KNN_Test Accuracy: 0.9566666666666667\n",
            "KNN_Train AUC Score 0.8516493576186117\n",
            "KNN_Test AUC Score 0.8799422799422799\n"
          ]
        }
      ]
    },
    {
      "cell_type": "code",
      "source": [
        "svm_accuracy_train = compute_accuracy(train_data[1],svm_train_predictions)\n",
        "svm_accuracy_test = compute_accuracy(test_data[1],svm_test_predictions)\n",
        "svm_auc_train = compute_auc(train_data[1],svm_train_predictions)\n",
        "svm_auc_test = compute_auc(test_data[1],svm_test_predictions)\n",
        "print(\"SVM_Train Accuracy:\",svm_accuracy_train)\n",
        "print(\"SVM_Test Accuracy:\",svm_accuracy_test)\n",
        "print(\"SVM_Train AUC Score\",svm_auc_train)\n",
        "print(\"SVM_Test AUC Score\",svm_auc_test)"
      ],
      "metadata": {
        "colab": {
          "base_uri": "https://localhost:8080/"
        },
        "id": "YEJzBLGNVywb",
        "outputId": "a0867077-6093-4a89-d587-b1a47a930426"
      },
      "execution_count": 125,
      "outputs": [
        {
          "output_type": "stream",
          "name": "stdout",
          "text": [
            "SVM_Train Accuracy: 0.9933333333333333\n",
            "SVM_Test Accuracy: 0.9783333333333334\n",
            "SVM_Train AUC Score 0.979746835443038\n",
            "SVM_Test AUC Score 0.9380952380952381\n"
          ]
        }
      ]
    }
  ],
  "metadata": {
    "colab": {
      "collapsed_sections": [],
      "name": "Spam_Classifier.ipynb",
      "provenance": []
    },
    "kernelspec": {
      "display_name": "Python 3",
      "name": "python3"
    },
    "language_info": {
      "name": "python"
    }
  },
  "nbformat": 4,
  "nbformat_minor": 0
}