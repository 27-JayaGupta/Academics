{
 "cells": [
  {
   "cell_type": "code",
   "execution_count": 43,
   "metadata": {},
   "outputs": [],
   "source": [
    "import numpy as np \n",
    "import scipy\n",
    "import sklearn \n",
    "from sklearn.model_selection import train_test_split\n",
    "import gc\n",
    "gc.collect()\n",
    "# import torch\n",
    "import tensorflow as tf\n",
    "\n",
    "from keras.layers import Dense, Dropout, activation\n",
    "from keras.losses import categorical_crossentropy\n",
    "from keras.models import Sequential\n",
    "from keras.metrics import Accuracy\n",
    "from tensorflow.nn import sigmoid_cross_entropy_with_logits"
   ]
  },
  {
   "cell_type": "code",
   "execution_count": 44,
   "metadata": {},
   "outputs": [
    {
     "data": {
      "text/plain": [
       "0.1"
      ]
     },
     "execution_count": 44,
     "metadata": {},
     "output_type": "execute_result"
    }
   ],
   "source": [
    "50*0.002\n",
    "# 0.95-0.001"
   ]
  },
  {
   "cell_type": "code",
   "execution_count": 45,
   "metadata": {},
   "outputs": [],
   "source": [
    "y=np.ones((10000,47))*0.002\n",
    "x=np.zeros((10000,225),dtype=int)\n",
    "\n",
    "with open(\"train\", \"r\") as a_file:\n",
    "  i=0\n",
    "  for line in a_file:\n",
    "    # print(line)\n",
    "    line=line.strip()\n",
    "    tokens=line.split(\" \")\n",
    "    # print(tokens)\n",
    "    temp=int(tokens[0])\n",
    "    if temp>0 and temp<33:\n",
    "      y[i,int(tokens[0])-1]=0.908\n",
    "    elif temp>33 and temp<36:\n",
    "      y[i,int(tokens[0])-2]=0.908\n",
    "    elif temp>36 and temp<38:\n",
    "      y[i,int(tokens[0])-3]=0.908\n",
    "    else:\n",
    "      y[i,int(tokens[0])-4]=0.908\n",
    "    \n",
    "    for j in range(1,len(tokens)):\n",
    "      alpha=tokens[j].split(\":\")\n",
    "      x[i,int(alpha[0])]=int(alpha[1])\n",
    "    i+=1\n",
    "\n"
   ]
  },
  {
   "cell_type": "code",
   "execution_count": 46,
   "metadata": {},
   "outputs": [
    {
     "name": "stdout",
     "output_type": "stream",
     "text": [
      "(10000, 47)\n"
     ]
    }
   ],
   "source": [
    "print(np.shape(y))"
   ]
  },
  {
   "cell_type": "code",
   "execution_count": 47,
   "metadata": {},
   "outputs": [
    {
     "name": "stdout",
     "output_type": "stream",
     "text": [
      "(8000, 47)\n"
     ]
    }
   ],
   "source": [
    "X_train, X_test, y_train, y_test = train_test_split(x, y, random_state = 0,test_size =0.2)\n",
    "print(np.shape(y_train))"
   ]
  },
  {
   "cell_type": "code",
   "execution_count": 48,
   "metadata": {},
   "outputs": [],
   "source": [
    "model=Sequential()\n",
    "model.add(Dense(500,input_dim=225,activation='relu',name=\"layer1\")) \n",
    "model.add(Dense(1000,activation='relu',name=\"layer2\")) \n",
    "model.add(Dense(1500,activation='relu',name=\"layer3\")) \n",
    "model.add(Dense(750,activation='relu',name=\"layer4\")) \n",
    "model.add(Dense(100,activation='relu',name=\"layer5\")) \n",
    "model.add(Dense(47,activation='softmax',name=\"layer6\")) \n",
    "\n",
    "model.compile(optimizer='adam',loss='categorical_crossentropy',metrics=['accuracy'])\n",
    "model.summary()"
   ]
  },
  {
   "cell_type": "code",
   "execution_count": 49,
   "metadata": {},
   "outputs": [
    {
     "name": "stdout",
     "output_type": "stream",
     "text": [
      "Epoch 1/7\n",
      "250/250 [==============================] - 6s 22ms/step - loss: 2.0896 - accuracy: 0.5811 - val_loss: 1.7259 - val_accuracy: 0.6630\n",
      "Epoch 2/7\n",
      "250/250 [==============================] - 6s 22ms/step - loss: 1.5335 - accuracy: 0.7312 - val_loss: 1.5294 - val_accuracy: 0.7270\n",
      "Epoch 3/7\n",
      "250/250 [==============================] - 6s 24ms/step - loss: 1.3317 - accuracy: 0.7886 - val_loss: 1.3763 - val_accuracy: 0.7745\n",
      "Epoch 4/7\n",
      "250/250 [==============================] - 5s 22ms/step - loss: 1.2089 - accuracy: 0.8267 - val_loss: 1.3211 - val_accuracy: 0.7900\n",
      "Epoch 5/7\n",
      "250/250 [==============================] - 6s 23ms/step - loss: 1.1332 - accuracy: 0.8489 - val_loss: 1.2750 - val_accuracy: 0.8075\n",
      "Epoch 6/7\n",
      "250/250 [==============================] - 5s 21ms/step - loss: 1.0825 - accuracy: 0.8605 - val_loss: 1.2495 - val_accuracy: 0.8190\n",
      "Epoch 7/7\n",
      "250/250 [==============================] - 5s 22ms/step - loss: 1.0202 - accuracy: 0.8802 - val_loss: 1.2832 - val_accuracy: 0.8165\n"
     ]
    },
    {
     "data": {
      "text/plain": [
       "<keras.callbacks.History at 0x7febd4b88b20>"
      ]
     },
     "execution_count": 49,
     "metadata": {},
     "output_type": "execute_result"
    }
   ],
   "source": [
    "model.fit(X_train,y_train,validation_data=(X_test,y_test),epochs=7,batch_size=32)"
   ]
  },
  {
   "cell_type": "code",
   "execution_count": 50,
   "metadata": {},
   "outputs": [
    {
     "name": "stdout",
     "output_type": "stream",
     "text": [
      "63/63 [==============================] - 0s 7ms/step\n"
     ]
    }
   ],
   "source": [
    "y=model.predict(X_test)"
   ]
  },
  {
   "cell_type": "code",
   "execution_count": 51,
   "metadata": {},
   "outputs": [
    {
     "name": "stdout",
     "output_type": "stream",
     "text": [
      "(2000, 47)\n"
     ]
    }
   ],
   "source": [
    "print(np.shape(y))"
   ]
  },
  {
   "cell_type": "code",
   "execution_count": 52,
   "metadata": {},
   "outputs": [
    {
     "name": "stdout",
     "output_type": "stream",
     "text": [
      "81.65\n"
     ]
    }
   ],
   "source": [
    "x=0\n",
    "k=1\n",
    "y1=np.argmax(y_test,axis=1)\n",
    "for i in range(2000):\n",
    "    ind=np.argpartition(y[i], -k)[-k:]\n",
    "    if y1[i] in ind:\n",
    "        x+=1\n",
    "print(x/20)"
   ]
  },
  {
   "cell_type": "code",
   "execution_count": null,
   "metadata": {},
   "outputs": [],
   "source": []
  },
  {
   "cell_type": "code",
   "execution_count": 53,
   "metadata": {},
   "outputs": [
    {
     "data": {
      "text/plain": [
       "array([9, 4, 4, 3, 3, 9, 0, 4, 6, 0])"
      ]
     },
     "execution_count": 53,
     "metadata": {},
     "output_type": "execute_result"
    }
   ],
   "source": [
    "a = np.array([9, 4, 4, 3, 3, 9, 0, 4, 6, 0])\n",
    "a\n",
    "\n"
   ]
  },
  {
   "cell_type": "code",
   "execution_count": null,
   "metadata": {},
   "outputs": [],
   "source": [
    "\n"
   ]
  },
  {
   "cell_type": "code",
   "execution_count": 54,
   "metadata": {},
   "outputs": [
    {
     "data": {
      "text/plain": [
       "array([4])"
      ]
     },
     "execution_count": 54,
     "metadata": {},
     "output_type": "execute_result"
    }
   ],
   "source": [
    "top4 = a[ind]\n",
    "top4\n"
   ]
  }
 ],
 "metadata": {
  "kernelspec": {
   "display_name": "Python 3.10.6 ('tf')",
   "language": "python",
   "name": "python3"
  },
  "language_info": {
   "codemirror_mode": {
    "name": "ipython",
    "version": 3
   },
   "file_extension": ".py",
   "mimetype": "text/x-python",
   "name": "python",
   "nbconvert_exporter": "python",
   "pygments_lexer": "ipython3",
   "version": "3.10.6"
  },
  "orig_nbformat": 4,
  "vscode": {
   "interpreter": {
    "hash": "ad9347c3660ac4ff1f212291db7df4ccbf46ebf9ab5319510e0cab403dcf8c35"
   }
  }
 },
 "nbformat": 4,
 "nbformat_minor": 2
}
