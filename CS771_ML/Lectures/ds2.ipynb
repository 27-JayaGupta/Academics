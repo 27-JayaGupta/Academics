{
 "cells": [
  {
   "cell_type": "code",
   "execution_count": 1,
   "id": "d2603cae",
   "metadata": {},
   "outputs": [],
   "source": [
    "%load_ext autoreload\n",
    "%autoreload 2"
   ]
  },
  {
   "cell_type": "code",
   "execution_count": 12,
   "id": "b5124804",
   "metadata": {},
   "outputs": [],
   "source": [
    "import numpy as np\n",
    "from sklearn.model_selection import train_test_split\n",
    "import sklearn\n",
    "from sklearn.svm import LinearSVC"
   ]
  },
  {
   "cell_type": "code",
   "execution_count": 5,
   "id": "a5046d5a",
   "metadata": {},
   "outputs": [
    {
     "data": {
      "text/plain": [
       "(100000, 33)"
      ]
     },
     "execution_count": 5,
     "metadata": {},
     "output_type": "execute_result"
    }
   ],
   "source": [
    "data = np.loadtxt( \"APUF_CRP.txt\" )\n",
    "data.shape"
   ]
  },
  {
   "cell_type": "code",
   "execution_count": 27,
   "id": "8e65c857",
   "metadata": {},
   "outputs": [],
   "source": [
    "def createFeatures( X ):\n",
    "    return np.cumprod( np.flip( 2 * X - 1 , axis = 1 ), axis = 1 )"
   ]
  },
  {
   "cell_type": "code",
   "execution_count": 32,
   "id": "8d06258a",
   "metadata": {},
   "outputs": [
    {
     "name": "stderr",
     "output_type": "stream",
     "text": [
      "C:\\Users\\purus\\AppData\\Local\\Programs\\Python\\Python310\\lib\\site-packages\\sklearn\\svm\\_base.py:1225: ConvergenceWarning: Liblinear failed to converge, increase the number of iterations.\n",
      "  warnings.warn(\n"
     ]
    },
    {
     "data": {
      "text/plain": [
       "0.9959111111111111"
      ]
     },
     "execution_count": 32,
     "metadata": {},
     "output_type": "execute_result"
    }
   ],
   "source": [
    "data_trn, data_tst = train_test_split( data, train_size = 10000 )\n",
    "\n",
    "clf = LinearSVC( loss = \"hinge\" )\n",
    "clf.fit( createFeatures( data_trn[:,:-1] ), data_trn[:,-1] )\n",
    "np.average( data_tst[:,-1] == clf.predict( createFeatures( data_tst[:,:-1] ) ) )"
   ]
  },
  {
   "cell_type": "code",
   "execution_count": null,
   "id": "e904ee92",
   "metadata": {},
   "outputs": [],
   "source": []
  }
 ],
 "metadata": {
  "kernelspec": {
   "display_name": "Python 3 (ipykernel)",
   "language": "python",
   "name": "python3"
  },
  "language_info": {
   "codemirror_mode": {
    "name": "ipython",
    "version": 3
   },
   "file_extension": ".py",
   "mimetype": "text/x-python",
   "name": "python",
   "nbconvert_exporter": "python",
   "pygments_lexer": "ipython3",
   "version": "3.10.5"
  }
 },
 "nbformat": 4,
 "nbformat_minor": 5
}
