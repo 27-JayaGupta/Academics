{
 "cells": [
  {
   "cell_type": "code",
   "execution_count": 1,
   "id": "5c8d4119",
   "metadata": {},
   "outputs": [],
   "source": [
    "%load_ext autoreload\n",
    "%autoreload 2"
   ]
  },
  {
   "cell_type": "code",
   "execution_count": 2,
   "id": "8a51caf7",
   "metadata": {},
   "outputs": [],
   "source": [
    "import numpy as np\n",
    "from sklearn.model_selection import train_test_split\n",
    "import sklearn\n",
    "from sklearn.svm import LinearSVC\n",
    "\n",
    "from cs771 import genSyntheticData as gsd\n",
    "from cs771 import plotData as pd\n",
    "from cs771 import optLib as opt\n",
    "\n",
    "from matplotlib import pyplot as plt\n",
    "import time as t\n",
    "import random"
   ]
  },
  {
   "cell_type": "code",
   "execution_count": 3,
   "id": "65fc5a91",
   "metadata": {},
   "outputs": [],
   "source": [
    "def mySVM( X ):\n",
    "    return X.dot(w) + b\n",
    "\n",
    "# Stochastic Dual Coordinate Maximization\n",
    "def doCoordOptCSVMDual( alpha, i, t ):\n",
    "    global w_SDCM, b_SDCM, normSq\n",
    "    x = X[i,:]\n",
    "    \n",
    "    # Find the unconstrained new optimal value of alpha_i\n",
    "    # It takes only O(d) time to do so because of our clever book keeping\n",
    "    newAlphai = (1 - y[i] * (x.dot(w_SDCM) + b_SDCM)) / normSq[i]\n",
    "    \n",
    "    # Make sure that the constraints are satisfied. This takes only O(1) time\n",
    "    if newAlphai > C:\n",
    "        newAlphai = C\n",
    "    if newAlphai < 0:\n",
    "        newAlphai = 0\n",
    "\n",
    "    # Update the primal model vector and bias values to ensure bookkeeping is proper\n",
    "    # Doing these bookkeeping updates also takes only O(d) time\n",
    "    w_SDCM = w_SDCM + (newAlphai - alpha[i]) * y[i] * x\n",
    "    b_SDCM = b_SDCM + (newAlphai - alpha[i]) * y[i]\n",
    "    \n",
    "    return newAlphai\n",
    "\n",
    "# Get the primal and the dual CSVM objective values in order to plot convergence curves\n",
    "# This is required for the dual solver which optimizes the dual objective function\n",
    "def getCSVMPrimalDualObjVals( alpha ):\n",
    "    global w_SDCM, b_SDCM\n",
    "    hingeLoss = np.maximum( 1 - np.multiply( (X.dot( w_SDCM ) + b_SDCM), y ), 0 )\n",
    "    objPrimal = 0.5 * w_SDCM.dot( w_SDCM ) + C * np.sum(hingeLoss)\n",
    "    # Recall that b is supposed to be treated as the last coordinate of w\n",
    "    objDual = np.sum( alpha ) - 0.5 * np.square( np.linalg.norm( w_SDCM ) ) - 0.5 * b_SDCM * b_SDCM\n",
    "    \n",
    "    return np.array( [objPrimal, objDual] )"
   ]
  },
  {
   "cell_type": "code",
   "execution_count": 4,
   "id": "79ae2c6c",
   "metadata": {},
   "outputs": [],
   "source": [
    "data = np.loadtxt( \"APUF_CRP.txt\" )\n",
    "\n",
    "def createFeatures( X ):\n",
    "    return np.cumprod( np.flip( 2 * X - 1 , axis = 1 ), axis = 1 )\n",
    "\n",
    "data_trn, data_tst = train_test_split( data, train_size = 10000 )\n",
    "\n",
    "X_raw = data_trn[:,:-1]\n",
    "X = createFeatures( X_raw )\n",
    "y = data_trn[:,-1]\n",
    "\n",
    "y = np.where( y > 0, 1, -1 )\n",
    "\n",
    "X_t_raw = data_tst[:,:-1]\n",
    "X_t = createFeatures( X_t_raw )\n",
    "y_t = data_tst[:,-1]\n",
    "\n",
    "y_t = np.where( y_t > 0, 1, -1 )"
   ]
  },
  {
   "cell_type": "code",
   "execution_count": 5,
   "id": "0a9ea73c",
   "metadata": {},
   "outputs": [],
   "source": [
    "C = 1\n",
    "\n",
    "coordFunc = opt.coordinateGenerator( \"randperm\", y.size )\n",
    "\n",
    "initDual = C * np.ones( ( y.size, ) )\n",
    "\n",
    "normSq = np.square( np.linalg.norm( X, axis = 1 ) ) + 1\n",
    "\n",
    "alphayInit = np.multiply( initDual, y )\n",
    "w_SDCM = X.T.dot( alphayInit )\n",
    "\n",
    "b_SDCM = initDual.dot( y )\n",
    "\n",
    "(alpha_SDCM, obj_SDCM, time_SDCM) = opt.doSDCM( doCoordOptCSVMDual, coordFunc, getCSVMPrimalDualObjVals, initDual, horizon = 5000 )"
   ]
  },
  {
   "cell_type": "code",
   "execution_count": 6,
   "id": "2fd42fc2",
   "metadata": {},
   "outputs": [
    {
     "data": {
      "image/png": "[encoded data removed]",
      "text/plain": [
       "<Figure size 504x504 with 1 Axes>"
      ]
     },
     "metadata": {
      "needs_background": "light"
     },
     "output_type": "display_data"
    }
   ],
   "source": [
    "fig1 = pd.getFigure( 7, 7 )\n",
    "plt.figure( fig1.number )\n",
    "primal_SDCM = [obj_SDCM[i][0] for i in range(len(obj_SDCM))]\n",
    "dual_SDCM = [obj_SDCM[i][1] for i in range(len(obj_SDCM))]\n",
    "plt.plot( time_SDCM, primal_SDCM, color = 'b', linestyle = '-', label = \"SDCM Primal Obj Val\" )\n",
    "plt.plot( time_SDCM, dual_SDCM, color = 'b', linestyle = ':', label = \"SDCM Dual Obj Val\" )\n",
    "plt.legend()\n",
    "plt.xlabel( \"Elapsed time (sec)\" )\n",
    "plt.ylabel( \"C-SVM Objective value\" )\n",
    "\n",
    "# plt.ylim( np.median( dual_SDCM ), np.median( primal_SDCM ) )\n",
    "\n",
    "plt.show()"
   ]
  },
  {
   "cell_type": "code",
   "execution_count": 7,
   "id": "a120cf05",
   "metadata": {},
   "outputs": [
    {
     "name": "stdout",
     "output_type": "stream",
     "text": [
      "SDCM 0.9779666666666667\n"
     ]
    }
   ],
   "source": [
    "def eval( theta, name ):\n",
    "    global X_t, y_t\n",
    "    global w, b\n",
    "    w = theta[0:-1]\n",
    "    b = theta[-1]\n",
    "    y_t_pred = mySVM( X_t )\n",
    "    y_t_pred = np.where( y_t_pred > 0, 1, -1 )\n",
    "    print( name, np.average( y_t == y_t_pred ) )\n",
    "\n",
    "eval( np.append( w_SDCM, b_SDCM ), \"SDCM\" )"
   ]
  },
  {
   "cell_type": "markdown",
   "id": "2a39fddd",
   "metadata": {},
   "source": [
    "**Implementing Gradient Descent Variants**: below we implement four variants of the basic gradient descent algorithm. For step lengths, we are using the scheme $\\eta_t = \\frac\\eta t$ which is recommended for functions such as the CSVM objective that satisfy a property known as \"strong convexity\" but are nevertheless, not differentiable. GD variants perform very well on strongly convex functions like the CSVM objective.\n",
    "\n",
    "Note that the gradient oracles have the option of using iteration information as well. We will use this flexibility when implementing variable batch-sized SGD\n",
    "\n",
    "1. Vanilla Gradient Descent: the word \"vanilla\" is often used to refer to something that is plain or simple\n",
    "1. Stochastic Gradient Descent: simply choose a random data point per iteration\n",
    "1. Mini-batch Stochastic Gradient Descent: choose a random (without replacement) set of $B$ samples per iteration. The batch size $B$ is a hyperparameter for this method\n",
    "1. Variable Batch-size Stochastic Gradient Descent: a variant of the mini-batch stochastic gradient where batch sizes go up gradually as the optimization progresses. This makes sense -- when we begin the optimization process, we only need a rough idea of the direction in which to proceed. However, as we make more and more progress, we would ideally need less noisy directions which can be achieved by using larger batch sizes. How frequently to update the batch size and how much to increase it at each update are two hyperparameters of this method."
   ]
  },
  {
   "cell_type": "code",
   "execution_count": 8,
   "id": "7035c80d",
   "metadata": {},
   "outputs": [],
   "source": [
    "# Vanilla Gradient Descent\n",
    "def getCSVMGrad( theta, t ):\n",
    "    w = theta[0:-1]\n",
    "    b = theta[-1]\n",
    "    discriminant = np.multiply( (X.dot( w ) + b), y )\n",
    "    g = np.zeros( (y.size,) )\n",
    "    g[discriminant < 1] = -1\n",
    "    delb = C * g.dot( y )\n",
    "    delw = w + C * (X.T * g).dot( y )\n",
    "    return np.append( delw, delb )\n",
    "\n",
    "# Stochastic Gradient Descent\n",
    "def getCSVMSGrad( theta, t ):\n",
    "    w = theta[0:-1]\n",
    "    b = theta[-1]\n",
    "    n = y.size\n",
    "    i = random.randint( 0, n-1 )\n",
    "    x = X[i,:]\n",
    "    discriminant = (x.dot( w ) + b) * y[i]\n",
    "    g = 0\n",
    "    if discriminant < 1:\n",
    "        g = -1\n",
    "    delb = C * n * g * y[i]\n",
    "    delw = w + C * n * (x * g) * y[i]\n",
    "    return np.append( delw, delb )\n",
    "\n",
    "# Mini-batch Stochastic Gradient Descent\n",
    "def getCSVMMBGrad( theta, t ):\n",
    "    w = theta[0:-1]\n",
    "    b = theta[-1]\n",
    "    n = y.size\n",
    "    # Be careful not to ask for more samples than there are training points\n",
    "    # otherwise the sample() routine will throw an exception\n",
    "    B_eff = min( B, n )\n",
    "    samples = random.sample( range(0, n), B_eff )\n",
    "    X_ = X[samples,:]\n",
    "    y_ = y[samples]\n",
    "    discriminant = np.multiply( (X_.dot( w ) + b), y_ )\n",
    "    g = np.zeros( (B_eff,) )\n",
    "    g[discriminant < 1] = -1\n",
    "    delb = C * n/B_eff * g.dot( y_ )\n",
    "    delw = w + C * n/B_eff * (X_.T * g).dot( y_ )\n",
    "    return np.append( delw, delb )\n",
    "\n",
    "# Variable Batch-size Stochastic Gradient Descent\n",
    "def getCSVMVarMBGrad( theta, t ):\n",
    "    w = theta[0:-1]\n",
    "    b = theta[-1]\n",
    "    n = y.size\n",
    "    # Increase the batch size every few iterations -- there are two tuneable hyperparameters here\n",
    "    # How frequently to update the batch size and how much to increase it at each update\n",
    "    B_eff = min( B * int( pow(1.2, t//40) ), n )\n",
    "    samples = random.sample( range(0, n), B_eff )\n",
    "    X_ = X[samples,:]\n",
    "    y_ = y[samples]\n",
    "    discriminant = np.multiply( (X_.dot( w ) + b), y_ )\n",
    "    g = np.zeros( (B_eff,) )\n",
    "    g[discriminant < 1] = -1\n",
    "    delb = C * n/B_eff * g.dot( y_ )\n",
    "    delw = w + C * n/B_eff * (X_.T * g).dot( y_ )\n",
    "    return np.append( delw, delb )\n",
    "\n",
    "# Get the CSVM objective value in order to plot convergence curves\n",
    "def getCSVMObjVal( theta ):\n",
    "    w = theta[0:-1]\n",
    "    b = theta[-1]\n",
    "    hingeLoss = np.maximum( 1 - np.multiply( (X.dot( w ) + b), y ), 0 )\n",
    "    return 0.5 * w.dot( w ) + C * np.sum( hingeLoss )"
   ]
  },
  {
   "cell_type": "markdown",
   "id": "54a00b09",
   "metadata": {},
   "source": [
    "**Case Study with the CSVM Objective**: Let us now try out our various GD solvers on the CSVM objective. CSVM problems get progressively more and more difficult as $C$ goes up. All solvers, GD/SGD/sklearn will struggle with large values of $C$. Change the values of $\\eta, C$ below and experiment to observe that SGD and mini-batch SGD offer much faster convergence than GD, especially when the number of data points i.e. $n$ is large.\n",
    "\n",
    "**Model Averaging**: GD variants, especially when executed on non-differentiable functions, often find it a bit difficult to converge very close to the global optimum, even if the function is convex. A nice way to ensure good convergence even for non-differentiable functions is to average successive iterates of the GD process and use the average model as the final output. This averaging technique can be shown to provably converge to the global optimum (proof beyond scope of CS771)."
   ]
  },
  {
   "cell_type": "code",
   "execution_count": 9,
   "id": "4b5cc16b",
   "metadata": {},
   "outputs": [],
   "source": [
    "def mySVM( X ):\n",
    "    return X.dot(w) + b\n",
    "\n",
    "C = 1\n",
    "eta = 1\n",
    "B = 10\n",
    "d = X.shape[1]\n",
    "\n",
    "init = np.zeros( (d+1,) )\n",
    "stepFunc = opt.stepLengthGenerator( \"linear\", eta )\n",
    "\n",
    "(thetaGD, objGD, timeGD) = opt.doGD( getCSVMGrad, stepFunc, getCSVMObjVal, init, horizon = 500, doModelAveraging = True )\n",
    "(thetaSGD, objSGD, timeSGD) = opt.doGD( getCSVMSGrad, stepFunc, getCSVMObjVal, init, horizon = 500, doModelAveraging = True )\n",
    "(thetaMB, objMB, timeMB) = opt.doGD( getCSVMMBGrad, stepFunc, getCSVMObjVal, init, horizon = 500, doModelAveraging = True )\n",
    "(thetaVarMB, objVarMB, timeVarMB) = opt.doGD( getCSVMVarMBGrad, stepFunc, getCSVMObjVal, init, horizon = 500, doModelAveraging = True )"
   ]
  },
  {
   "cell_type": "code",
   "execution_count": 10,
   "id": "7715d495",
   "metadata": {},
   "outputs": [
    {
     "name": "stdout",
     "output_type": "stream",
     "text": [
      "GD 0.9940555555555556\n",
      "SGD 0.741\n",
      "MB 0.9409777777777778\n",
      "VarMB 0.9473555555555555\n",
      "SDCM 0.9779666666666667\n"
     ]
    },
    {
     "data": {
      "image/png": "[encoded data removed]",
      "text/plain": [
       "<Figure size 504x504 with 1 Axes>"
      ]
     },
     "metadata": {
      "needs_background": "light"
     },
     "output_type": "display_data"
    }
   ],
   "source": [
    "eval( thetaGD, \"GD\" )\n",
    "eval( thetaSGD, \"SGD\" )\n",
    "eval( thetaMB, \"MB\" )\n",
    "eval( thetaVarMB, \"VarMB\" )\n",
    "eval( np.append( w_SDCM, b_SDCM ), \"SDCM\" )\n",
    "\n",
    "fig2 = pd.getFigure( 7, 7 )\n",
    "plt.figure( fig2.number )\n",
    "plt.plot( timeGD, objGD, color = 'k', linestyle = '--', label = \"GD\" )\n",
    "plt.plot( timeSGD, objSGD, color = 'r', linestyle = '-', label = \"SGD\" )\n",
    "plt.plot( timeMB, objMB, color = 'g', linestyle = ':', label = \"MB\" )\n",
    "plt.plot( timeVarMB, objVarMB, color = 'm', linestyle = '--', label = \"VarMB\" )\n",
    "plt.plot( time_SDCM, primal_SDCM, color = 'b', linestyle = '-.', label = \"SDCM\" )\n",
    "\n",
    "plt.xlabel( \"Elapsed time (sec)\" )\n",
    "plt.ylabel( \"C-SVM Objective value\" )\n",
    "plt.legend()\n",
    "# Plot the results of the last blah iterates of all methods\n",
    "blah = 500\n",
    "plt.ylim( 0, max(primal_SDCM[-blah], objSGD[-blah], objMB[-blah], objGD[-blah], objVarMB[-blah]) )\n",
    "plt.xlim( 0, 0.1 )\n",
    "plt.show()"
   ]
  },
  {
   "cell_type": "code",
   "execution_count": null,
   "id": "ea4d418a",
   "metadata": {},
   "outputs": [],
   "source": []
  }
 ],
 "metadata": {
  "author": {
   "email": "purushot@cse.iitk.ac.in",
   "institution": "IIT Kanpur",
   "name": "Puru"
  },
  "kernelspec": {
   "display_name": "Python 3 (ipykernel)",
   "language": "python",
   "name": "python3"
  },
  "language_info": {
   "codemirror_mode": {
    "name": "ipython",
    "version": 3
   },
   "file_extension": ".py",
   "mimetype": "text/x-python",
   "name": "python",
   "nbconvert_exporter": "python",
   "pygments_lexer": "ipython3",
   "version": "3.10.5"
  }
 },
 "nbformat": 4,
 "nbformat_minor": 5
}
