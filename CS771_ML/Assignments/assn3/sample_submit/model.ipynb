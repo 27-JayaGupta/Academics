{
 "cells": [
  {
   "cell_type": "code",
   "execution_count": 1,
   "metadata": {},
   "outputs": [
    {
     "name": "stdout",
     "output_type": "stream",
     "text": [
      "\u001b[33mDEPRECATION: Configuring installation scheme with distutils config files is deprecated and will no longer work in the near future. If you are using a Homebrew or Linuxbrew Python, please see discussion at https://github.com/Homebrew/homebrew-core/issues/76621\u001b[0m\u001b[33m\n",
      "\u001b[0mRequirement already satisfied: opencv-python in /opt/homebrew/lib/python3.9/site-packages (4.6.0.66)\n",
      "Requirement already satisfied: numpy>=1.14.5 in /opt/homebrew/lib/python3.9/site-packages (from opencv-python) (1.23.4)\n",
      "\u001b[33mDEPRECATION: Configuring installation scheme with distutils config files is deprecated and will no longer work in the near future. If you are using a Homebrew or Linuxbrew Python, please see discussion at https://github.com/Homebrew/homebrew-core/issues/76621\u001b[0m\u001b[33m\n",
      "\u001b[0m\u001b[33mWARNING: There was an error checking the latest version of pip.\u001b[0m\u001b[33m\n",
      "\u001b[0m"
     ]
    }
   ],
   "source": [
    "!pip3 install opencv-python"
   ]
  },
  {
   "cell_type": "code",
   "execution_count": 1,
   "metadata": {},
   "outputs": [],
   "source": [
    "import numpy as np\n",
    "import cv2 as cv\n",
    "import random as rng\n",
    "\n",
    "rng.seed(12345)"
   ]
  },
  {
   "cell_type": "code",
   "execution_count": 3,
   "metadata": {},
   "outputs": [],
   "source": [
    "lowThreshold = 80\n",
    "max_lowThreshold = 200\n",
    "ratio = 3\n",
    "kernel_size = 3\n",
    "scale=1\n",
    "window_name = \"Edge Map\"\n",
    "corner_threshold=100\n",
    "epsilon=1\n",
    "\n",
    "# std.vector<cv.Vec4i> linesP // will hold the results of the detection\n",
    "# cv.HoughLinesP(final, linesP, 1, CV_PI/180, 50, 50, 10 ) // runs the actual detection\n",
    "    \n",
    "# if(linesP.size()==0)\n",
    "\n",
    "#     cv.HoughLinesP(final, linesP, 1, CV_PI/180, 10, 10, 10 ) \n",
    "\n",
    "# int xtot=0,ytot=0,vec_len=linesP.size()\n",
    "# for( size_t i = 0 i < vec_len i++ )\n",
    "\n",
    "#     xtot+=(linesP[i])[0]+(linesP[i])[2]\n",
    "#     ytot+=(linesP[i])[1]+(linesP[i])[3]\n",
    "\n",
    "# std.cout<<\"x : \"<<xtot<<std.endl\n",
    "# std.cout<<\"y : \"<<ytot<<std.endl\n",
    "# std.cout<<\"len : \"<<vec_len<<std.endl\n",
    "# xtot=(int)(xtot/(2*vec_len))\n",
    "# ytot=(int)(ytot/(2*vec_len))\n",
    "# cv.circle( canny_output,cv.Point(xtot,ytot), 5,  cv.Scalar(255), 2, 8, 0 )\n",
    "# cv.imshow(\"Contour\", final)\n",
    "# cv.imshow(\"Edges with center\", canny_output)\n",
    "\n"
   ]
  },
  {
   "cell_type": "code",
   "execution_count": 4,
   "metadata": {},
   "outputs": [
    {
     "data": {
      "text/plain": [
       "13"
      ]
     },
     "execution_count": 4,
     "metadata": {},
     "output_type": "execute_result"
    },
    {
     "ename": "",
     "evalue": "",
     "output_type": "error",
     "traceback": [
      "\u001b[1;31mThe Kernel crashed while executing code in the the current cell or a previous cell. Please review the code in the cell(s) to identify a possible cause of the failure. Click <a href='https://aka.ms/vscodeJupyterKernelCrash'>here</a> for more info. View Jupyter <a href='command:jupyter.viewOutput'>log</a> for further details."
     ]
    }
   ],
   "source": [
    "image_path = \"/Users/jaya/Documents/Course_Material/CS771_ML/assn3/train/0.png\"\n",
    "img = cv.imread(image_path, cv.IMREAD_COLOR)\n",
    "if(img.size == 0):\n",
    "   print(\"Could not read the image: \",image_path)\n",
    "\n",
    "img = cv.resize(img, (img.shape[1]*scale, img.shape[0]*scale))\n",
    "cv.imshow(\"Original\", img)\n",
    "cv.waitKey(0)"
   ]
  },
  {
   "cell_type": "code",
   "execution_count": null,
   "metadata": {},
   "outputs": [],
   "source": [
    "hsv = cv.cvtColor(img,cv.CV_BGR2HSV)\n",
    "\n",
    "channels = cv.split(hsv)\n",
    "\n",
    "H = channels[0]\n",
    "S = channels[1]\n",
    "V = channels[2]\n",
    "cv.GaussianBlur(S, S, cv.Size(15,15), 0, 0)"
   ]
  },
  {
   "cell_type": "code",
   "execution_count": null,
   "metadata": {},
   "outputs": [],
   "source": [
    "\n",
    "grey = cv.cvtColor(img, cv.CV_BGR2GRAY)\n",
    "cv.imshow(\"S channel\", S)\n",
    "canny_output = cv.Canny( S, lowThreshold, lowThreshold*ratio, kernel_size )\n",
    "cv.GaussianBlur(canny_output, canny_output, cv.Size(3,3), 0, 0)\n",
    "\n",
    "cv.imshow(\"Canny Output\", canny_output)\n"
   ]
  },
  {
   "cell_type": "code",
   "execution_count": null,
   "metadata": {},
   "outputs": [],
   "source": [
    "\n",
    "contours = cv.findContours( canny_output,cv.CV_RETR_CCOMP, cv.CV_CHAIN_APPROX_SIMPLE )\n",
    "if(contours.size()==0):\n",
    "    cv.threshold(S,S,20,255,0)\n",
    "    cv.Canny(S,canny_output,lowThreshold,lowThreshold*ratio,kernel_size)\n",
    "    cv.findContours( canny_output, contours,cv.CV_RETR_CCOMP, cv.CV_CHAIN_APPROX_SIMPLE )"
   ]
  },
  {
   "cell_type": "code",
   "execution_count": null,
   "metadata": {},
   "outputs": [],
   "source": [
    "hull_list = []\n",
    "for i in range(len(contours)):\n",
    "    hull = cv.convexHull(contours[i])\n",
    "    hull_list.append(hull)"
   ]
  },
  {
   "cell_type": "code",
   "execution_count": null,
   "metadata": {},
   "outputs": [],
   "source": [
    "drawing = np.zeros((canny_output.shape[0], canny_output.shape[1], 3), dtype=np.uint8)\n",
    "for i in range(len(contours)):\n",
    "    color = (rng.randint(0,256), rng.randint(0,256), rng.randint(0,256))\n",
    "    cv.drawContours(drawing, contours, i, color)\n",
    "    cv.drawContours(drawing, hull_list, i, color)\n",
    "# Show in a window\n",
    "cv.imshow('Contours', drawing)"
   ]
  },
  {
   "cell_type": "code",
   "execution_count": null,
   "metadata": {},
   "outputs": [],
   "source": [
    "cv.waitKey(0)\n",
    "cv.destroyAllWindows()"
   ]
  }
 ],
 "metadata": {
  "kernelspec": {
   "display_name": "Python 3.9.13 64-bit",
   "language": "python",
   "name": "python3"
  },
  "language_info": {
   "codemirror_mode": {
    "name": "ipython",
    "version": 3
   },
   "file_extension": ".py",
   "mimetype": "text/x-python",
   "name": "python",
   "nbconvert_exporter": "python",
   "pygments_lexer": "ipython3",
   "version": "3.9.13"
  },
  "orig_nbformat": 4,
  "vscode": {
   "interpreter": {
    "hash": "b0fa6594d8f4cbf19f97940f81e996739fb7646882a419484c72d19e05852a7e"
   }
  }
 },
 "nbformat": 4,
 "nbformat_minor": 2
}
